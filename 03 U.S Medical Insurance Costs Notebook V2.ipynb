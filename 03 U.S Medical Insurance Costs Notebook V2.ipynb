{
 "cells": [
  {
   "cell_type": "markdown",
   "id": "twenty-cocktail",
   "metadata": {},
   "source": [
    "# U.S Medical Insurance Project\n",
    "### Abstract\n",
    "For this project I will demonstrate my ability to use various data science techniques and methodologies using technologies such as Python, Jupyter Notebook, and GitHub.\n",
    "\n",
    "The dataset used for this project can be accessed [here](https://www.kaggle.com/mirichoi0218/insurance).\n",
    "\n",
    "### Project Goals\n",
    "To create initial analysis that will determine the population of the dataset to explicitly state any biases within the dataset, such as being weighted towards specific regions or genders.\n",
    "\n",
    "Determine:\n",
    "\n",
    "1.\tAverage age\n",
    "2.\tAverage bmi\n",
    "3.\tGender split in %\n",
    "4.\tAverage number of children\n",
    "5.\tSmoker split in %\n",
    "6.\tAverage cost of insurance"
   ]
  },
  {
   "cell_type": "code",
   "execution_count": 1,
   "id": "hidden-carter",
   "metadata": {},
   "outputs": [],
   "source": [
    "#imports\n",
    "import csv "
   ]
  },
  {
   "cell_type": "code",
   "execution_count": 2,
   "id": "supposed-accused",
   "metadata": {},
   "outputs": [],
   "source": [
    "#Create empty lists for the various attributes in insurance.csv\n",
    "age = []\n",
    "sex = []\n",
    "bmi = []\n",
    "children = []\n",
    "smoker = []\n",
    "region = []\n",
    "charges = []"
   ]
  },
  {
   "cell_type": "code",
   "execution_count": 3,
   "id": "marked-failure",
   "metadata": {},
   "outputs": [],
   "source": [
    "#Function to inject data into empty lists\n",
    "def inject_data(lst, csv_file, column_name):\n",
    "    with open(csv_file) as csv_info:\n",
    "        csv_dict = csv.DictReader(csv_info)\n",
    "        for row in csv_dict:\n",
    "            lst.append(row[column_name])\n",
    "        return lst"
   ]
  },
  {
   "cell_type": "code",
   "execution_count": 4,
   "id": "headed-scottish",
   "metadata": {},
   "outputs": [
    {
     "name": "stdout",
     "output_type": "stream",
     "text": [
      "Injection Complete\n"
     ]
    }
   ],
   "source": [
    "#Run function to inject data into empty lists\n",
    "inject_data(age, '01 insurancecosts.csv', 'age')\n",
    "inject_data(sex, '01 insurancecosts.csv', 'sex')\n",
    "inject_data(bmi, '01 insurancecosts.csv', 'bmi')\n",
    "inject_data(children, '01 insurancecosts.csv', 'children')\n",
    "inject_data(smoker, '01 insurancecosts.csv', 'smoker')\n",
    "inject_data(region, '01 insurancecosts.csv', 'region')\n",
    "inject_data(charges, '01 insurancecosts.csv', 'charges')\n",
    "print(\"Injection Complete\")"
   ]
  },
  {
   "cell_type": "code",
   "execution_count": 5,
   "id": "played-october",
   "metadata": {},
   "outputs": [],
   "source": [
    "#Averages\n",
    "ages = [int(i) for i in age] \n",
    "averageage = round(sum(ages) / len(ages))\n",
    "\n",
    "bmis = [float(x) for x in bmi]\n",
    "averagebmi = round(sum(bmis) / len(bmis), 2)\n",
    "\n",
    "females = sex.count('female')\n",
    "males = sex.count('male')\n",
    "population_total = males + females\n",
    "population_female_percentage = '{0:.2%}'.format(females / population_total)\n",
    "population_male_percentage = '{0:.2%}'.format(males / population_total)\n",
    "\n",
    "numchildren = [int(y) for y in children]\n",
    "averagechildren = round(sum(numchildren) / len(children), 2)\n",
    "\n",
    "smokers = smoker.count('yes')\n",
    "population_smokers = '{0:.2%}'.format(smokers / population_total)\n",
    "\n",
    "population_northwest = region.count('northwest')\n",
    "population_southwest = region.count('southwest')\n",
    "population_northeast = region.count('northeast')\n",
    "population_southeast = region.count('southeast')\n",
    "\n",
    "population_nw_percentage = '{0:.2%}'.format(population_northwest / population_total)\n",
    "population_sw_percentage = '{0:.2%}'.format(population_southwest / population_total)\n",
    "population_ne_percentage = '{0:.2%}'.format(population_northeast / population_total)\n",
    "population_sw_percentage = '{0:.2%}'.format(population_southeast / population_total)\n",
    "\n",
    "costs = [float(z) for z in charges]\n",
    "averagecost = round(sum(costs) / len(costs), 2)"
   ]
  },
  {
   "cell_type": "markdown",
   "id": "fifteen-worst",
   "metadata": {},
   "source": [
    "## Population Analysis\n",
    "\n",
    "The average age of an individual within the dataset is 39 years of age.\n",
    "\n",
    "The average bmi of an individual within the data is 30.66.\n",
    "\n",
    "Females account for 49.48% of the data set, whilst males account for 50.52%.\n",
    "\n",
    "The average number of children for each adult in the data is 1.09.\n",
    "\n",
    "20.48% of the data set are smokers.\n",
    "\n",
    "The average cost for medical insurance in the US is $13,270.42."
   ]
  },
  {
   "cell_type": "code",
   "execution_count": 6,
   "id": "historical-scene",
   "metadata": {},
   "outputs": [],
   "source": [
    "#print('The average age of an individual within the dataset is ' + str(averageage) + ' years of age.\\n')\n",
    "#print('The average bmi of an individual within the data is ' + str(averagebmi) + '.\\n')\n",
    "#print('Females account for ' + str(population_female_percentage) + ' of the data set, whilst males account for ' + str(population_male_percentage + '.\\n'))\n",
    "#print('The average number of children for each adult in the data is ' + (str(averagechildren)) + '.\\n')\n",
    "#print((str(population_smokers) + ' of the data set are smokers.\\n'))\n",
    "#print('The average cost for medical insurance in the US is ' + str(averagecost) + ' dollars.\\n')"
   ]
  }
 ],
 "metadata": {
  "kernelspec": {
   "display_name": "Python 3",
   "language": "python",
   "name": "python3"
  },
  "language_info": {
   "codemirror_mode": {
    "name": "ipython",
    "version": 3
   },
   "file_extension": ".py",
   "mimetype": "text/x-python",
   "name": "python",
   "nbconvert_exporter": "python",
   "pygments_lexer": "ipython3",
   "version": "3.8.5"
  }
 },
 "nbformat": 4,
 "nbformat_minor": 5
}
